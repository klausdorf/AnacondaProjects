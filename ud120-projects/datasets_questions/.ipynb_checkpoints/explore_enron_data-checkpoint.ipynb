{
 "cells": [
  {
   "cell_type": "code",
   "execution_count": 42,
   "metadata": {},
   "outputs": [
    {
     "name": "stdout",
     "output_type": "stream",
     "text": [
      "enron_data enthält 146 Datensätze\n",
      "Jeder Datensatz enthält 21 Features\n",
      "Im Datensatz sind 18 Personen als 'poi' markiert\n",
      "{'salary': 1111258, 'to_messages': 3627, 'deferral_payments': 'NaN', 'total_payments': 8682716, 'loan_advances': 'NaN', 'bonus': 5600000, 'email_address': 'jeff.skilling@enron.com', 'restricted_stock_deferred': 'NaN', 'deferred_income': 'NaN', 'total_stock_value': 26093672, 'expenses': 29336, 'from_poi_to_this_person': 88, 'exercised_stock_options': 19250000, 'from_messages': 108, 'other': 22122, 'from_this_person_to_poi': 30, 'poi': True, 'long_term_incentive': 1920000, 'shared_receipt_with_poi': 2042, 'restricted_stock': 6843672, 'director_fees': 'NaN'}\n",
      "Das total stock value von James Prentice beträgt 1095040\n"
     ]
    }
   ],
   "source": [
    "#!/usr/bin/python\n",
    "\n",
    "\"\"\" \n",
    "    Starter code for exploring the Enron dataset (emails + finances);\n",
    "    loads up the dataset (pickled dict of dicts).\n",
    "\n",
    "    The dataset has the form:\n",
    "    enron_data[\"LASTNAME FIRSTNAME MIDDLEINITIAL\"] = { features_dict }\n",
    "\n",
    "    {features_dict} is a dictionary of features associated with that person.\n",
    "    You should explore features_dict as part of the mini-project,\n",
    "    but here's an example to get you started:\n",
    "\n",
    "    enron_data[\"SKILLING JEFFREY K\"][\"bonus\"] = 5600000\n",
    "    \n",
    "\"\"\"\n",
    "\n",
    "import pickle\n",
    "\n",
    "with open('../final_project/final_project_dataset.pkl', 'rb') as file:\n",
    "    enron_data = pickle.load(file)\n",
    "# Zähle die Datensätze\n",
    "print (\"enron_data enthält %s Datensätze\" %len(enron_data))\n",
    "\n",
    "# Zähle die Features pro Datensatz\n",
    "# folgende Zeile ist die generische Variante, die Anzahl Features herauszufinden\n",
    "    # number_of_features = sum(map(len, enron_data.values()))/len(enron_data)\n",
    "# und folgende ist die einfache Variante...\n",
    "number_of_features = len(enron_data[\"SKILLING JEFFREY K\"])\n",
    "print (\"Jeder Datensatz enthält %s Features\" %number_of_features)\n",
    "\n",
    "# Zähle die als \"poi\" markierten Datensätze\n",
    "count = 0\n",
    "for entry in enron_data:\n",
    "    if enron_data[entry][\"poi\"]==1:\n",
    "        count+=1\n",
    "print (\"Im Datensatz sind %s Personen als 'poi' markiert\" %count)\n",
    "\n",
    "values_list = enron_data[\"SKILLING JEFFREY K\"] # für die komplette Liste: values_list = enron_data.values()\n",
    "print (values_list)\n",
    "print (\"Das total stock value von James Prentice beträgt %s\" %enron_data[\"PRENTICE JAMES\"][\"total_stock_value\"])\n",
    "file.close()"
   ]
  },
  {
   "cell_type": "code",
   "execution_count": 49,
   "metadata": {},
   "outputs": [
    {
     "name": "stdout",
     "output_type": "stream",
     "text": [
      "Fastow money 2424083\n",
      "Skilling money 8682716\n",
      "Lay money 103559793\n"
     ]
    }
   ],
   "source": [
    "print (\"Fastow money %s\" %enron_data[\"FASTOW ANDREW S\"][\"total_payments\"])\n",
    "print (\"Skilling money %s\" %enron_data[\"SKILLING JEFFREY K\"][\"total_payments\"])\n",
    "print (\"Lay money %s\" %enron_data[\"LAY KENNETH L\"][\"total_payments\"])"
   ]
  },
  {
   "cell_type": "code",
   "execution_count": 63,
   "metadata": {},
   "outputs": [
    {
     "name": "stdout",
     "output_type": "stream",
     "text": [
      "Im Datensatz haben 95 Personen einen Eintrag für 'salary'\n",
      "Im Datensatz haben 111 Personen eine Mailadresse\n"
     ]
    }
   ],
   "source": [
    "count_salary = 0\n",
    "count_mail = 0\n",
    "for entry in enron_data:\n",
    "    if enron_data[entry][\"email_address\"] != 'NaN':\n",
    "        count_mail+=1\n",
    "    if enron_data[entry][\"salary\"] != 'NaN':\n",
    "        count_salary+=1\n",
    "print (\"Im Datensatz haben %s Personen einen Eintrag für 'salary'\" %count_salary)\n",
    "print (\"Im Datensatz haben %s Personen eine Mailadresse\" %count_mail)"
   ]
  },
  {
   "cell_type": "code",
   "execution_count": null,
   "metadata": {
    "collapsed": true
   },
   "outputs": [],
   "source": [
    "file.close()"
   ]
  }
 ],
 "metadata": {
  "kernelspec": {
   "display_name": "Python 3",
   "language": "python",
   "name": "python3"
  },
  "language_info": {
   "codemirror_mode": {
    "name": "ipython",
    "version": 3
   },
   "file_extension": ".py",
   "mimetype": "text/x-python",
   "name": "python",
   "nbconvert_exporter": "python",
   "pygments_lexer": "ipython3",
   "version": "3.6.3"
  }
 },
 "nbformat": 4,
 "nbformat_minor": 2
}
