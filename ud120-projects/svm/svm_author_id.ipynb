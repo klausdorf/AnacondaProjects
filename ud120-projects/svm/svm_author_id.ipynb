{
 "cells": [
  {
   "cell_type": "code",
   "execution_count": 23,
   "metadata": {},
   "outputs": [
    {
     "name": "stdout",
     "output_type": "stream",
     "text": [
      "no. of Chris training emails: 7936\n",
      "no. of Sara training emails: 7884\n",
      "training time: 104.641 S\n",
      "test time: 11.703 S\n",
      "prediction for element 10 is 1\n",
      "prediction for element 26 is 0\n",
      "prediction for element 50 is 1\n",
      "accuracy is 0.990898748578\n"
     ]
    }
   ],
   "source": [
    "#!/usr/bin/python\n",
    "\"\"\" \n",
    "    This is the code to accompany the Lesson 2 (SVM) mini-project.\n",
    "\n",
    "    Use a SVM to identify emails from the Enron corpus by their authors:    \n",
    "    Sara has label 0\n",
    "    Chris has label 1\n",
    "\"\"\"\n",
    "\n",
    "import sys\n",
    "from time import time\n",
    "sys.path.append(\"../tools/\")\n",
    "from email_preprocess import preprocess\n",
    "import nltk\n",
    "import numpy\n",
    "import scipy\n",
    "import sklearn\n",
    "from sklearn.svm import SVC\n",
    "\n",
    "### features_train and features_test are the features for the training\n",
    "### and testing datasets, respectively\n",
    "### labels_train and labels_test are the corresponding item labels\n",
    "\n",
    "features_train, features_test, labels_train, labels_test = preprocess()\n",
    "\n",
    "#########################################################\n",
    "\n",
    "clf = SVC(C=10000, kernel='rbf')\n",
    "# features_train = features_train[:int(len(features_train)/100)]\n",
    "# labels_train = labels_train[:int(len(labels_train)/100)]\n",
    "t0 = time()\n",
    "clf.fit (features_train,labels_train)\n",
    "print (\"training time: %s S\" %round(time()-t0, 3))\n",
    "t0 = time()\n",
    "pred = clf.predict(features_test)\n",
    "print (\"test time: %s S\" %round(time()-t0, 3))\n",
    "print(\"prediction for element 10 is %s\" %pred[10])\n",
    "print(\"prediction for element 26 is %s\" %pred[26])\n",
    "print(\"prediction for element 50 is %s\" %pred[50])\n",
    "acc = clf.score(features_test,labels_test)\n",
    "print (\"accuracy is %s\" %acc)\n",
    "#########################################################"
   ]
  },
  {
   "cell_type": "code",
   "execution_count": 24,
   "metadata": {},
   "outputs": [
    {
     "name": "stdout",
     "output_type": "stream",
     "text": [
      "1758 test samples\n",
      "877 of those are predicted to be written by Chris\n"
     ]
    }
   ],
   "source": [
    "chris = 0\n",
    "count = 0\n",
    "for i in pred:\n",
    "    count += 1\n",
    "    if i == 1:\n",
    "        chris += 1\n",
    "print (\"%s test samples\" %count)\n",
    "print (\"%s of those are predicted to be written by Chris\" %chris)"
   ]
  },
  {
   "cell_type": "code",
   "execution_count": null,
   "metadata": {
    "collapsed": true
   },
   "outputs": [],
   "source": []
  }
 ],
 "metadata": {
  "kernelspec": {
   "display_name": "Python 3",
   "language": "python",
   "name": "python3"
  },
  "language_info": {
   "codemirror_mode": {
    "name": "ipython",
    "version": 3
   },
   "file_extension": ".py",
   "mimetype": "text/x-python",
   "name": "python",
   "nbconvert_exporter": "python",
   "pygments_lexer": "ipython3",
   "version": "3.6.3"
  }
 },
 "nbformat": 4,
 "nbformat_minor": 2
}
